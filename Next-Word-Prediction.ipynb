{
 "cells": [
  {
   "cell_type": "code",
   "execution_count": 1,
   "metadata": {},
   "outputs": [],
   "source": [
    "import numpy as np \n",
    "import pandas as pd \n",
    "import json\n",
    "import re\n",
    "\n",
    "from datasets import load_dataset\n",
    "from tensorflow.keras.preprocessing.text import Tokenizer\n",
    "from tensorflow.keras.utils import to_categorical\n",
    "\n",
    "from tensorflow.keras.models import Sequential\n",
    "from tensorflow.keras.layers import Embedding, Dense, LSTM\n",
    "from tensorflow.keras.callbacks import ModelCheckpoint"
   ]
  },
  {
   "cell_type": "code",
   "execution_count": 2,
   "metadata": {},
   "outputs": [],
   "source": [
    "class LoadData:\n",
    "    def download_data():\n",
    "        dataset = load_dataset(\"512duncanl/wh40k_novels\")\n",
    "        data = dataset['train']['text']"
   ]
  },
  {
   "cell_type": "code",
   "execution_count": 3,
   "metadata": {},
   "outputs": [
    {
     "name": "stderr",
     "output_type": "stream",
     "text": [
      "Found cached dataset json (C:/Users/90530/.cache/huggingface/datasets/512duncanl___json/512duncanl--wh40k_novels-3308fde660ed265e/0.0.0/e347ab1c932092252e717ff3f949105a4dd28b27e842dd53157d2f72e276c2e4)\n"
     ]
    },
    {
     "data": {
      "application/vnd.jupyter.widget-view+json": {
       "model_id": "947852f9089f4effaf4b213310c1566e",
       "version_major": 2,
       "version_minor": 0
      },
      "text/plain": [
       "  0%|          | 0/1 [00:00<?, ?it/s]"
      ]
     },
     "metadata": {},
     "output_type": "display_data"
    }
   ],
   "source": [
    "dataset = load_dataset(\"512duncanl/wh40k_novels\")"
   ]
  },
  {
   "cell_type": "code",
   "execution_count": 6,
   "metadata": {},
   "outputs": [
    {
     "data": {
      "text/plain": [
       "['PART ONE. THE DECEIVED\\n\\nONE\\n\\nBlood from misunderstanding\\n\\nOur brethren in ignorance\\n\\nThe Emperor dies\\n\\n\\'I WAS THERE.\\' he would say afterwards, until afterwards became a time quite devoid of laughter. \\'I was there, the day Horus slew the Emperor.\\' It was a delicious conceit, and his comrades would chuckle at the sheer treason of it.\\n\\nThe story was a good one. Torgaddon would usually be the one to cajole him into telling it, for Torgaddon was the joker, a man of mighty laughter and idiot tricks. And Loken would tell it again, a tale rehearsed through so many retellings, it almost told itself.\\n\\nLoken was always careful to make sure his audience properly understood the irony in his story. It was likely that he felt some shame about his complicity in the matter itself, for it was a case of blood spilled from misunderstanding. There was a great tragedy implicit in the tale of the Emperor\\'s murder, a tragedy that Loken always wanted his listeners to appreciate. But the death of Sejanus was usually all that fixed their attentions.\\n\\nThat, and the punchline.\\n\\nIt had been, as far as the warp-dilated horologs could attest, the two hundred and third year of the Great Crusade. Loken always set his story in its proper time and place. The commander had been Warmaster for about a year, since the triumphant conclusion of the Ullanor campaign, and he was anxious to prove his new-found status, particularly in the eyes of his brothers.\\n\\nWarmaster. Such a tide. The fit was still new and unnatural, not yet worn in.\\n\\nIt was a strange time to be abroad amongst stars. They had been doing what they had been doing for two centuries, but now it felt unfamiliar. It was a start of things. And an ending too.\\n\\nThe ships of the 63rd Expedition came upon the Imperium by chance. A sudden etheric storm, later declared providential by Maloghurst, forced a route alteration, and they translated into the edges of a system comprising nine worlds.\\n\\nNine worlds, circling a yellow sun.\\n\\nDetecting the shoal of rugged expedition warships on station at the out-system edges, the Emperor first demanded to know their occupation and agenda. Then he painstakingly corrected what he saw as the multifarious errors in their response.\\n\\nThen he demanded fealty.\\n\\nHe was, he explained, the Emperor of Mankind. He had stoically shepherded his people through the miserable epoch of warp storms, through the Age of Strife, staunchly maintaining the rule and law of man. This had been expected of him, he declared. He had kept the flame of human culture alight through the aching isolation of Old Night. He had sustained this precious, vital fragment, and kept it intact, until such time as the scattered diaspora of humanity re-established contact. He rejoiced that such a time was now at hand. His soul leapt to see the orphan ships returning to the heart of the Imperium. Everything was ready and waiting. Everything had been preserved. The orphans would be embraced to his bosom, and then the Great Scheme of rebuilding would begin, and the Imperium of Mankind would stretch itself out again across the stars, as was its birthright.\\n\\nAs soon as they showed him proper fealty. As Emperor. Of mankind.\\n\\nThe commander, quite entertained by all accounts, sent Hastur Sejanus to meet with the Emperor and deliver greeting.\\n\\nSejanus was the commander\\'s favourite. Not as proud or irascible as Abaddon, nor as ruthless as Sedirae, nor even as solid and venerable as Iacton Qruze, Sejanus was the perfect captain, tempered evenly in all respects. A warrior and a diplomat in equal measure, Sejanus\\'s martial record, second only to Abaddon\\'s, was easily forgotten when in company with the man himself. A beautiful man, Loken would say, building his tale, a beautiful man adored by all. \\'No finer figure in Mark IV plate than Hastur Sejanus. That he is remembered, and his deeds celebrated, even here amongst us, speaks of Sejanus\\'s qualities. The noblest hero of the Great Crusade.\\' That was how Loken would describe him to the eager listeners. \\'In future times, he will be recalled with such fondness that men will name their sons after him.\\'\\n\\nSejanus, with a squad of his finest warriors from the Fourth Company, travelled in-system in a gilded barge, and was received for audience by the Emperor at his palace on the third planet.\\n\\nAnd killed.\\n\\nMurdered. Hacked down on the onyx floor of the palace even as he stood before the Emperor\\'s golden throne. Sejanus and his glory squad - Dymos, Malsan-dar, Gorthoi and the rest - all slaughtered by the Emperor\\'s elite guard, the so-called Invisibles.\\n\\nApparently, Sejanus had not offered the correct fealty. Indelicately, he had suggested there might actually be another Emperor.\\n\\nThe commander\\'s grief was absolute. He had loved Sejanus like a son. They had warred side by side to affect compliance on a hundred worlds. But the commander, always sanguine and wise in such matters, told his signal men to offer the Emperor another chance. The commander detested resorting to war, and always sought alternative paths away from violence, where such were workable. This was a mistake, he reasoned, a terrible, terrible mistake. Peace could be salvaged. This \\'Emperor\\' could be made to understand.\\n\\nIt was about then, Loken liked to add, that a suggestion of quote marks began to appear around the \\'Emperor\\'s\\' name.\\n\\nIt was determined that a second embassy would be despatched. Maloghurst volunteered at once. The commander agreed, but ordered the speartip forwards into assault range. The intent was clear: one hand extended open, in peace, the other held ready as a fist. If the second embassy failed, or was similarly met with violence, then the fist would already be in position to strike. That sombre day, Loken said, the honour of the speartip had fallen, by the customary drawing of lots, to the strengths of Abaddon, Torgaddon, \\'Little Horus\\' Aximand. And Loken himself.\\n\\nAt the order, battle musters began. The ships of the speartip slipped forward, running under obscurement. On board, stormbirds were hauled onto their launch carriages. Weapons were issued and certified. Oaths of moment were sworn and witnessed. Armour was machined into place around the anointed bodies of the chosen.\\n\\nIn silence, tensed and ready to be unleashed, the speartip watched as the shuttle convoy bearing Maloghurst and his envoys arced down towards the third planet. Surface batteries smashed them out of the heavens. As the burning scads of debris from Maloghurst\\'s flotilla billowed away into the atmosphere, the \\'Emperor\\'s\\' fleet elements rose up out of the oceans, out of the high cloud, out of the gravity wells of nearby moons. Six hundred warships, revealed and armed for war.\\n\\nAbaddon broke obscurement and made a final, personal plea to the \\'Emperor\\', beseeching him to see sense. The warships began to fire on Abaddon\\'s speartip.\\n\\n\\'My commander.\\' Abaddon relayed to the heart of the waiting fleet, \\'there is no dealing here. This fool imposter will not listen.\\'\\n\\nAnd the commander replied, \\'Illuminate him, my son, but spare all you can. That order not withstanding, avenge the blood of my noble Sejanus. Decimate this \"Emperor\\'s\" elite murderers, and bring the imposter to me.\\'\\n\\n\\'And so.\\' Loken would sigh, \\'we made war upon our brethren, so lost in ignorance.\\'\\n\\nIT WAS LATE evening, but the sky was saturated with light. The phototropic towers of the High City, built to turn and follow the sun with their windows during the day, shifted uneasily at the pulsating radiance in the heavens. Spectral shapes swam high in the upper atmosphere: ships engaging in a swirling mass, charting brief, nonsensical zodiacs with the beams of their battery weapons.\\n\\nAt ground level, around the wide, basalt platforms that formed the skirts of the palace, gunfire streamed through the air like horizontal rain, hosing coils of tracer fire that dipped and slithered heavily like snakes, die-straight zips of energy that vanished as fast as they appeared, and flurries of bolt shells like blizzarding hail. Downed stormbirds, many of them crippled and burning, littered twenty square kilometres of the landscape.\\n\\nBlack, humanoid figures paced slowly in across the limits of the palace sprawl. They were shaped like armoured men, and they trudged like men, but they were giants, each one hundred and forty metres tall. The Mechanicum had deployed a half-dozen of its Titan war engines. Around the Titans\\' soot-black ankles, troops flooded forward in a breaking wave three kilometres wide.\\n\\nThe Luna Wolves surged like the surf of the wave, thousands of gleaming white figures bobbing and running forward across the skirt platforms, detonations bursting amongst them, lifting rippling fireballs and trees of dark brown smoke. Each blast juddered the ground with a gritty thump, and showered down dirt as an after-curse. Assault craft swept in over their heads, low, between the shambling frames of the wide-spaced Titans, fanning the slowly lifting smoke clouds into sudden, energetic vortices.\\n\\nEvery Astartes helmet was filled with vox-chatter: snapping voices, chopping back and forth, their tonal edges roughened by the transmission quality.\\n\\nIt was Loken\\'s first taste of mass war since Ullanor. Tenth Company\\'s first taste too. There had been skirmishes and scraps, but nothing testing. Loken was glad to see that his cohort hadn\\'t grown rusty. The unapologetic regimen of live drills and punishing exercises he\\'d maintained had kept them whetted as sharp and serious as the terms of the oaths of moment they had taken just hours before.\\n\\nUllanor had been glorious, a hard, unstinting slog to dislodge and overthrow a bestial empire. The greenskin had been a pernicious and resilient foe, but they had broken his back and kicked over the embers of his revel fires. \\n\\nThe commander had won the field through the employment of his favourite, practiced strategy: the speartip thrust to tear out the throat. Ignoring the green-skin masses, which had outnumbered the crusaders five to one, the com',\n",
       " \"s of moment they had taken just hours before.\\n\\nUllanor had been glorious, a hard, unstinting slog to dislodge and overthrow a bestial empire. The greenskin had been a pernicious and resilient foe, but they had broken his back and kicked over the embers of his revel fires. \\n\\nThe commander had won the field through the employment of his favourite, practiced strategy: the speartip thrust to tear out the throat. Ignoring the green-skin masses, which had outnumbered the crusaders five to one, the commander had struck directly at the Overlord and his command coterie, leaving the enemy headless and without direction.\\n\\nThe same philosophy operated here. Tear out the throat and let the body spasm and die. Loken and his men, and the war engines that supported them, were the edge of the blade unsheathed for that purpose.\\n\\nBut this was not like Ullanor at all. No thickets of mud and clay-built ramparts, no ramshackle fortresses of bare metal and wire, no black powder air bursts or howling ogre-foes. This was not a barbaric brawl determined by blades and upper body strength.\\n\\nThis was modern warfare in a civilised place. This was man against man, inside the monolithic precincts of a cultured people. The enemy possessed ordnance and firearms every bit the technological match of the Legio forces, and the skill and training to use them. Through the green imaging of his visor, Loken saw armoured men with energy weapons ranged against them in the lower courses of the palace. He saw tracked weapon carriages, automated artillery; nests of four or even eight automatic cannons shackled together on cart platforms that lumbered forward on hydraulic legs.\\n\\nNot like Ullanor at all. That had been an ordeal. This would be a test. Equal against equal. Like against like.\\n\\nExcept that for all its martial technologies, the enemy lacked one essential quality, and that quality was locked within each and every case of Mark IV power armour: the genetically enhanced flesh and blood of the Imperial Astartes. Modified, refined, post-human, the Astartes were superior to anything they had met or would ever meet. No fighting force in the galaxy could ever hope to match the Legions, unless the stars went out, and madness ruled, and lawful sense turned upside down. For, as Sedirae had once said, The only thing that can beat an Astartes is another Astartes', and they had all laughed at that. The impossible was nothing to be scared of.\\n\\nThe enemy - their armour a polished magenta trimmed in silver, as Loken later discovered when he viewed them with his helmet off - firmly held the induction gates into the inner palace. They were big men, tall, thick through the chest and shoulders, and at the peak of fitness. Not one of them, not even the tallest, came up to the chin of one of the Luna Wolves. It was like fighting children.\\n\\nWell-armed children, it had to be said.\\n\\nThrough the billowing smoke and the jarring detonations, Loken led the veteran First Squad up the steps at a run, the plasteel soles of their boots grating on the stone: First Squad, Tenth Company, Hellebore Tactical Squad, gleaming giants in pearl-white armour, the wolf head insignia stark black on their auto-responsive shoulder plates. Crossfire zig-zagged around them from the defended gates ahead. The night air shimmered with the heat distortion of weapons discharge. Some kind of upright, automated mortar was casting a sluggish, flaccid stream of fat munition charges over their heads.\\n\\n'Kill it!' Loken heard Brother-sergeant Jubal instruct over the link. Jubal's order was given in the curt argot of Cthonia, their derivation world, a language that the Luna Wolves had preserved as their battle-tongue.\\n\\nThe battle-brother carrying the squad's plasma cannon obeyed without hesitation. For a dazzling half-second, a twenty-metre ribbon of light linked the muzzle of his weapon to the auto-mortar, and then the device engulfed the facade of the palace in a roasting wash of yellow flame.\\n\\nDozens of enemy soldiers were cast down by the blast. Several were thrown up into the air, landing crumpled and boneless on the flight of steps.\\n\\n'Into them!' Jubal barked.\\n\\nWildfire chipped and pattered off their armour. Loken felt the distant sting of it. Brother Calends stumbled and fell, but righted himself again, almost at once.\\n\\nLoken saw the enemy scatter away from their charge. He swung his bolter up. His weapon had a gash in the metal of the foregrip, the legacy of a greenskin's axe during Ullanor, a cosmetic mark Loken had told the armourers not to finish out. He began to fire, not on burst, but on single shot, feeling the weapon buck and kick against his palms. Bolter rounds were explosive penetrators. The men he hit popped like blisters, or shredded like bursting fruit. Pink mist fumed off every ruptured figure as it fell.\\n\\nTenth Company!' Loken shouted. 'For the Warmaster!'\\n\\nThe warcry was still unfamiliar, just another aspect of the newness. It was the first time Loken had declaimed it in war, the first chance he'd had since the honour had been bestowed by the Emperor after Ullanor.\\n\\nBy the Emperor. The true Emperor.\\n\\n'Lupercal! Lupercal!' the Wolves yelled back as they streamed in, choosing to answer with the old cry, the Legion's pet-name for their beloved commander. The warhorns of the Titans boomed.\\n\\nThey stormed the palace. Loken paused by one of the induction gates, urging his frontrunners in, carefully reviewing the advance of his company main force. Hellish fire continued to rake them from the upper balconies and towers. In the far distance, a brilliant dome of light suddenly lifted into the sky, astonishingly bright and vivid. Loken's visor automatically dimmed. The ground trembled and a noise like a thunderclap reached him. A capital ship of some size, stricken and ablaze, had fallen out of the sky and impacted in the outskirts of the High City. Drawn by the flash, the phototropic towers above him fidgeted and rotated.\\n\\nReports flooded in. Aximand's force, Fifth Company, had secured the Regency and the pavilions on the ornamental lakes to the west of the High City. Torgaddon's men were driving up through the lower town, slaying the armour sent to block them.\\n\\nLoken looked east. Three kilometres away, across the flat plain of the basalt platforms, across the tide of charging men and striding Titans and stitching fire, Abaddon's company, First Company, was crossing the bulwarks into the far flank of the palace. Loken magnified his view, resolving hundreds of white-armoured figures pouring through the smoke and chop-fire. At the front of them, the dark figures of First Company's foremost Terminator squad, the Justaerin. They wore polished black armour, dark as night, as if they belonged to some other, black Legion.\\n\\n'Loken to First,' he sent. Tenth has entry.'\\n\\nThere was a pause, a brief distort, then Abaddon's voice answered. 'Loken, Loken... are you trying to shame me with your diligence?'\\n\\n'Not for a moment, first captain,' Loken replied. There was a strict hierarchy of respect within the Legion, and though he was a senior officer, Loken regarded the peerless first captain with awe. All of the Mournival, in fact, though Torgaddon had always favoured Loken with genuine shows of friendship.\\n\\nNow Sejanus was gone, Loken thought. The aspect of the Mournival would soon change.\\n\\n'I'm playing with you, Loken.' Abaddon sent, his voice so deep that some vowel sounds were blurred by the vox. Til meet you at the feet of this false Emperor. First one there gets to illuminate him.'\\n\\nLoken fought back a smile. Ezekyle Abaddon had seldom sported with him before. He felt blessed, elevated. To be a chosen man was enough, but to be in with the favoured elite, that was every captain's dream.\\n\\nReloading, Loken entered the palace through the induction gate, stepping over the tangled corpses of the enemy dead. The plaster facings of the inner walls had been cracked and blown down, and loose crumbs, like dry sand, crunched under his feet. The air was full of smoke, and his visor display kept jumping from one register to another as it attempted to compensate and get a clean reading.\\n\\nHe moved down the inner hall, hearing the echo of gunfire from deeper in the palace compound. The body of a brother lay slumped in a doorway to his left, the large, white-armoured corpse odd and out of place amongst the smaller enemy bodies. Marjex, one of the Legion's apothecaries, was bending over him. He glanced up as Loken approached, and shook his head.\\n\\nWho is it?' Loken asked.\\n\\n'Tibor, of Second Squad.' Marjex replied. Loken frowned as he saw the devastating head wound that had stopped Tibor.\\n\\nThe Emperor knows his name.' Loken said.\\n\\nMarjex nodded, and reached into his narthecium to get the reductor tool. He was about to remove Tibor's precious gene-seed, so that it might be returned to the Legion banks.\\n\\nLoken left the apothecary to his work, and pushed on down the hall. In a wide colonnade ahead, the towering walls were decorated with frescoes, showing familiar scenes of a haloed Emperor upon a golden throne. How blind these people are, Loken thought, how sad this is. One day, one single day with the iterators, and they would understand. We are not the enemy. We are the same, and we bring with us a glorious message of redemption. Old Night is done. Man walks the stars again, and the might of the Astartes walks at his side to keep him safe.\\n\\nIn a broad, sloping tunnel of etched silver, Loken caught up with elements of Third Squad. Of all the units in his company, Third Squad - Locasta Tactical Squad - was his favourite and his favoured. Its commander, Brother-sergeant Nero Vipus, was his oldest and truest friend.\\n\\n'How's your humour, captain?' Vipus asked. His pearl-white plate was smudged with soot and streaked with blood.\\n\\n'Phlegmatic, Nero. You?'\\n\\n'Choleric. Red-raged, in fact. I've just lost a man, and two more of mine are injured. There's something covering the junction ahead. Something heavy. Rate of fire like you wouldn't\",\n",
       " 'the units in his company, Third Squad - Locasta Tactical Squad - was his favourite and his favoured. Its commander, Brother-sergeant Nero Vipus, was his oldest and truest friend.\\n\\n\\'How\\'s your humour, captain?\\' Vipus asked. His pearl-white plate was smudged with soot and streaked with blood.\\n\\n\\'Phlegmatic, Nero. You?\\'\\n\\n\\'Choleric. Red-raged, in fact. I\\'ve just lost a man, and two more of mine are injured. There\\'s something covering the junction ahead. Something heavy. Rate of fire like you wouldn\\'t believe.\\'\\n\\nTried fragging it?\\'\\n\\nTwo or three grenades. No effect. And there\\'s nothing to see. Garvi, we\\'ve all heard about these so-called Invisibles. The ones that butchered Sejanus. I was wondering-\\'\\n\\n\\'Leave the wondering to me,\\' Loken said. Who\\'s down?\\'\\n\\nVipus shrugged. He was a little taller than Loken, and his shrug made the heavy ribbing and plates of his armour clunk together. \\'Zakias.\\'\\n\\n\\'Zakias? No...\\'\\n\\nTorn into shreds before my very eyes. Oh, I feel the hand of the ship on me, Garvi.\\'\\n\\nThe hand of the ship. An old saying. The commander\\'s flagship was called the Vengeful Spirit, and in times of duress or loss, the Wolves liked to draw upon all that implied as a charm, a totem of retribution.\\n\\n\\'In Zakias\\'s name,\\' Vipus growled, \\'I\\'ll find this bastard Invisible and-\\'\\n\\n\\'Sooth your choler, brother. I\\'ve no use for it,\\' Loken said. \\'See to your wounded while I take a look.\\'\\n\\nVipus nodded and redirected his men. Loken pushed up past them to the disputed junction.\\n\\nIt was a vault-roofed crossways where four hallways met. The area read cold and still to his imaging. Fading smoke wisped up into the rafters. The ouslite floor had been chewed and peppered with thousands of impact craters. Brother Zakias, his body as yet unretrieved, lay in pieces at the centre of the crossway, a steaming pile of shattered white plasteel and bloody meat.\\n\\nVipus had been right. There was no sign of an enemy present. No heat-trace, not even a flicker of movement. But studying the area, Loken saw a heap of empty shell cases, glittering brass, that had spilled out from behind a bulkhead across from him. Was that where the killer was hiding?\\n\\nLoken bent down and picked up a chunk of fallen plasterwork. He lobbed it into the open. There was a click, and then a hammering deluge of autofire raked across the junction. It lasted five seconds, and in that time over a thousand rounds were expended. Loken saw the fuming shell cases spitting out from behind the bulkhead as they were ejected.\\n\\nThe firing stopped. Fycelene vapour fogged the junction. The gunfire had scored a mottled gouge across the stone floor, pummelling Zakias\\'s corpse in the process. Spots of blood and scraps of tissue had been spattered out.\\n\\nLoken waited. He heard a whine and the metallic clunk of an autoloader system. He read weapon heat, fading, but no body warmth.\\n\\nWon a medal yet?\\' Vipus asked, approaching.\\n\\n\\'It\\'s just an automatic sentry gun.\\' Loken replied.\\n\\n\\'Well, that\\'s a small relief at least.\\' Vipus said. \\'After the grenades we\\'ve pitched in that direction, I was beginning to wonder if these vaunted Invisibles might be \"Invulnerables\" too. I\\'ll call up Devastator support to-\\'\\n\\n\\'Just give me a light flare.\\' Loken said.\\n\\nVipus stripped one off his leg plate and handed it to his captain. Loken ignited it with a twist of his hand, and threw it down the hallway opposite. It bounced, fizzling, glaring white hot, past the hidden killer.\\n\\nThere was a grind of servos. The implacable gunfire began to roar down the corridor at the flare, kicking it and bouncing it, ripping into the floor.\\n\\n\\'Garvi-\\' Vipus began.\\n\\nLoken was running. He crossed the junction, thumped his back against the bulkhead. The gun was still blazing. He wheeled round the bulkhead and saw the sentry gun, built into an alcove. A squat machine, set on four pad feet and heavily plated, it had turned its short, fat, pumping cannons away from him to fire on the distant, flickering flare.\\n\\nLoken reached over and tore out a handful of its servo flexes. The guns stuttered and died.\\n\\n\\'We\\'re dear!\\' Loken called out. Locasta moved up.\\n\\nThat\\'s generally called showing off.\\' Vipus remarked.\\n\\nLoken led Locasta up the corridor, and they entered a fine state apartment. Other apartment chambers, similarly regal, beckoned beyond. It was oddly still and quiet.\\n\\n\\'Which way now?\\' Vipus asked.\\n\\n\\'We go find this \"Emperor\".\\' Loken said.\\n\\nVipus snorted. \\'Just like that?\\'\\n\\nThe first captain bet me I couldn\\'t reach him first.\\'\\n\\nThe first captain, eh? Since when was Garviel Loken on pally terms with him?\\'\\n\\n\\'Since Tenth breached the palace ahead of First. Don\\'t worry, Nero, I\\'ll remember you little people when I\\'m famous.\\'\\n\\nNero Vipus laughed, the sound snuffling out of his helmet mask like the cough of a consumptive bull.\\n\\nWhat happened next didn\\'t make either of them laugh at all.\\n\\nTWO\\n\\nMeeting the Invisibles\\n\\nAt the foot of a Golden Throne\\n\\nLupercal\\n\\n\\'CAPTAIN LOKEN?\\' He looked up from his work. That\\'s me.\\' \\'Forgive me for interrupting.\\' she said. You\\'re busy.\\' Loken set aside the segment of armour he had been polishing and rose to his feet. He was almost a metre taller than her, and naked but for a loin cloth. She sighed inwardly at the splendour of his physique. The knotted muscles, the old ridge-scars. He was handsome too, this one, fair hair almost silver, cut short, his pale skin slightly freckled, his eyes grey like rain. What a waste, she thought.\\n\\nThough there was no disguising his inhumanity, especially in this bared form. Apart from the sheer mass of him, mere was the overgrown gigantism of the face, that particular characteristic of the Astartes, almost equine, plus the hard, taut shell of his rib-less torso, like stretched canvas.\\n\\n\\'I don\\'t know who you are.\\' he said, dropping a nub of polishing fibre into a litde pot, and wiping his fingers.\\n\\nShe held out her hand. \\'Mersadie Oliton, official remembrancer.\\' she said. He looked at her tiny hand and then shook it, making it seem even more tiny in comparison with his own giant fist.\\n\\n\\'I\\'m sorry.\\' she said, laughing, \\'I keep forgetting you don\\'t do that out here. Shaking hands, I mean. Such a parochial, Terran custom.\\'\\n\\n\\'I don\\'t mind it. Have you come from Terra?\\'\\n\\n\\'I left there a year ago.\\'despatched to the crusade by permit of the Council.\\'\\n\\nYou\\'re a remembrancer?\\'\\n\\n\"You know what that means?\\'\\n\\n\\'I\\'m not stupid.\\' Loken said.\\n\\n\\'Of course not.\\' she said, hurriedly. \\'I meant no offence.\\'\\n\\n\\'None taken.\\' He eyed her. Small and frail, though possibly beautiful. Loken had very little experience of women. Perhaps they were all frail and beautiful. He knew enough to know that few were as black as her. Her skin was like burnished coal. He wondered if it were some kind of dye.\\n\\nHe wondered too about her skull. Her head was bald, but not shaved. It seemed polished and smooth as if it had never known hair. The cranium was enhanced somehow, extending back in a streamlined sweep that formed a broad ovoid behind her nape. It was like she had been crowned, as if her simple humanity had been made more regal.\\n\\n\\'How can I help you?\\' he asked.\\n\\n\\'I understand you have a story, a particularly entertaining one. I\\'d like to remember it, for posterity.\\'\\n\\n\\'Which story?\\'\\n\\n\\'Horus killing the Emperor.\\'\\n\\nHe stiffened. He didn\\'t like it when non-Astartes humans called the Warmaster by his true name.\\n\\nThat happened months ago.\\' he said dismissively. \\'I\\'m sure I won\\'t remember the details particularly well.\\'\\n\\n\\'Actually.\\' she said, \\'I have it on good authority you can be persuaded to tell the tale quite expertly. I\\'ve been told it\\'s very popular amongst your battle-brothers.\\'\\n\\nLoken frowned. Annoyingly, the woman was correct. Since the taking of the High City, he\\'d been required -forced would not be too strong a word - to retell his first-hand account of the events in the palace tower on dozens of occasions. He presumed it was because of Sejanus\\'s death. The Luna Wolves needed catharsis. They needed to hear how Sejanus had been so singularly avenged.\\n\\n\\'Someone put you up to this, Mistress Oliton?\\' he asked.\\n\\nShe shrugged. \\'Captain Torgaddon, actually.\\'\\n\\nLoken nodded. It was usually him. What do you want to know?\\'\\n\\n\\'I understand the general situation, for I have heard it from others, but I\\'d love to have your personal observations. What was it like? When you got inside the palace itself, what did you find?\\'\\n\\nLoken sighed, and looked round at the rack where his power armour was displayed. He\\'d only just started cleaning it. His private arming chamber was a small, shadowy vault adjoining the off-limits embarkation deck, the metal walls lacquered pale green. A cluster of glow-globes lit the room, and an Imperial eagle had been stencilled on one wall plate, beneath which copies of Loken\\'s various oaths of moment had been pinned. The close air smelled of oils and lapping powder. It was a tranquil, introspective place, and she had invaded that tranquility.\\n\\nBecoming aware of her trespass, she suggested, \\'I could come back later, at a better time.\\'\\n\\n\\'No, now\\'s fine.\\' He sat back down on the metal stool where he had been perching when she\\'d entered. \\'Let me see... When we got inside the palace, what we found was the Invisibles.\\'\\n\\n\\'Why were they called that?\\' she asked. \\'Because we couldn\\'t see them.\\' he replied.\\n\\nTHE INVISIBLES WERE waiting for them, and they well deserved their sobriquet.\\n\\nJust ten paces into the splendid apartments, the first brother died. There was an odd, hard bang, so hard it was painful to feel and hear, and Brother Edrius fell to his knees, then folded onto his side. He had been struck in the face by some form of energy weapon. The white plasteel.\\'ceramite alloy of his visor and breastplate had actually deformed into a rippled crater, like heated wax that had flowed and then set again. A second bang, a quick concussive vibration of air, obliterated an ornamental table beside Nero Vipus. A third bang dropped Brother Muriad, his left leg shattered and snapped off like a reed stalk.\\n\\nThe science adepts',\n",
       " \"rother Edrius fell to his knees, then folded onto his side. He had been struck in the face by some form of energy weapon. The white plasteel.'ceramite alloy of his visor and breastplate had actually deformed into a rippled crater, like heated wax that had flowed and then set again. A second bang, a quick concussive vibration of air, obliterated an ornamental table beside Nero Vipus. A third bang dropped Brother Muriad, his left leg shattered and snapped off like a reed stalk.\\n\\nThe science adepts of the false Imperium had mastered and harnessed some rare and wonderful form of field technology, and armed their elite guard with it. They cloaked their bodies with a passive application, twisting light to render themselves invisible. And they were able to project it in a merciless, active form that struck with mutilating force.\\n\\nDespite the fact that they had been advancing combat-ready and wary, Loken and the others were taken completely off guard. The Invisibles were even hidden to their visor arrays. Several had simply been standing in the chamber, waiting to strike.\\n\\nLoken began to fire, and Vipus's men did likewise. Raking the area ahead of him, splintering furniture, Loken hit something. He saw pink mist kiss the air, and something fell down with enough force to overturn a chair. Vipus scored a hit too, but not before Brother Tar-regus had been struck with such power that his head was punched clean off his shoulders.\\n\\nThe cloak technology evidendy hid its users best if mey remained still. As they moved, they became semi-visible, heat-haze suggestions of men surging to attack. Loken adapted quickly, firing at each blemish of air. He adjusted his visor gain to full contrast, almost black and white, and saw them better: hard oudines against the fuzzy background. He killed three more. In death, several lost their cloaks. Loken saw the Invisibles revealed as bloody corpses. Their armour was silver, ornately composed and machined with a remarkable detail of patterning and symbols. Tall, swathed in mandes of red silk, the Invisibles reminded Loken of the mighty Custodian Guard that warded the Imperial Palace on Terra. This was the bodyguard corps which had executed Sejanus and his glory squad at a mere nod from their master.\\n\\nNero Vipus was raging, offended by the cost to his squad. The hand of the ship was truly upon him.\\n\\nHe led the way, cutting a path into a towering room beyond the scene of the ambush. His fury gave Locasta the opening it needed, but it cost him his right hand, crushed by an Invisible's blast. Loken felt choler too. Like Nero, the men of Locasta were his friends. Rituals of mourning awaited him. Even in the darkness of Ullanor, victory had not been so dearly bought.\\n\\nCharging past Vipus, who was down on his knees, groaning in pain as he tried to pluck the mangled gauntlet off his rained hand, Loken entered a side chamber, shooting at the air blemishes that attempted to block him. A jolt of force tore his bolter from his hands, so he reached over his hip and drew his chainsword from its scabbard. It whined as it kicked into life. He hacked at the faint outlines jostling around him and felt the toothed blade meet resistance. There was a shrill scream. Gore drizzled out of nowhere and plastered the chamber walls and the front of Loken's suit.\\n\\n'Lupercal!' he grunted, and put the full force of both arms behind his strokes. Servos and mimetic polymers, layered between his skin and his suit's outer plating to form the musculature of his power armour, bunched and flexed. He landed a trio of two-handed blows. More blood showered into view. There was a warbled shriek as loops of pink, wet viscera suddenly became visible. A moment later, the field screening the soldier flickered and failed, and revealed his disembowelled form, stumbling away down the length of the chamber, trying to hold his guts in with both hands.\\n\\nInvisible force stabbed at Loken again, scrunching the edge of his left shoulder guard and almost knocking him off his feet. He rounded and swung the chainsword. The blade struck something, and shards of metal flew out. The shape of a human figure, just out of joint with the space it occupied, as if it had been cut out of the air and nudged slightly to the left, suddenly filled in. One of the Invisibles, his charged field sparking and crackling around him as it died, became visible and swung his long, bladed lance at Loken.\\n\\nThe blade rebounded off Loken's helm. Loken struck low with his chainsword, ripping the lance out of the Invisible's silver gauntlets and buckling its haft. At the same time, Loken lunged, shoulder barging the warrior against the chamber wall so hard that the friable piaster of the ancient frescoes crackled and fell out.\\n\\nLoken stepped back. Winded, his lungs and ribcage almost crushed flat, the Invisible made a gagging, sucking noise and fell down on his knees, his head lolling forward. Loken sawed his chainsword down and sharply up again in one fluid, practiced mercy stroke, and the Invisible's detached head bounced away.\\n\\nLoken circled slowly, the humming blade raised ready in his right hand. The chamber floor was slick with blood and black scraps of meat. Shots rang out from nearby rooms. Loken walked across the chamber and retrieved his bolter, hoisting it in his left fist with a clatter.\\n\\nTwo Luna Wolves entered the chamber behind him, and Loken briskly pointed them off into the left-hand colonnade with a gesture of his sword.\\n\\n'Form up and advance.' he snapped into his link. Voices answered him.\\n\\n'Nero?'\\n\\n'I'm behind you, twenty metres.'\\n\\n'How's the hand?'\\n\\n'I left it behind. It was getting in the way.'\\n\\nLoken prowled forward. At the end of the chamber, past the crumpled, leaking body of the Invisible he had disembowelled, sixteen broad marble steps led up to a stone doorway. The splendid stone frame was carved with complex linenfold motifs.\\n\\nLoken ascended the steps slowly. Mottled washes of light cast spastic flickers through the open doorway. There was a remarkable stillness. Even the din of the fight engulfing the palace all around seemed to recede. Loken could hear the tiny taps made by the blood dripping off his outstretched chainsword onto the steps, a trail of red beads up the white marble.\\n\\nHe stepped through the doorway.\\n\\nThe inner walls of the tower rose up around him. He had evidently stepped through into one of the tallest and most massive of the palace's spires. A hundred metres in diameter, a kilometre tall.\\n\\nNo, more than that. He'd come out on a wide, onyx platform that encircled the tower, one of several ring platforms arranged at intervals up the height of the structure, but there were more below. Peering over, Loken saw as much tower drop away into the depths of the earth as stood proud above him.\\n\\nHe circled slowly, gazing around. Great windows of glass or some other transparent substance glazed the tower from top to bottom between the ring platforms, and through them the light and fury of the war outside flared and flashed. No noise, just the flickering glow, the sudden bursts of radiance.\\n\\nHe followed the platform round until he found a sweep of curved stairs, flush with the tower wall, that led up to the next level. He began to ascend, platform to platform, scanning for any blurs of light that might betray the presence of more Invisibles.\\n\\nNothing. No sound, no life, no movement except the shimmer of light from outside the windows as he passed them. Five floors now, six.\\n\\nLoken suddenly felt foolish. The tower was probably empty. This search and purge should have been left to others while he marshalled Tenth Company's main force.\\n\\nExcept... its ground-level approach had been so furiously protected. He looked up, pushing his sensors hard. A third of a kilometre above him, he fancied he caught a brief sign of movement, a partial heat-lock.\\n\\n'Nero?'\\n\\nA pause. 'Captain.'\\n\\n'Where are you?'\\n\\n'Base of a tower. Heavy fighting. We-' There was a jumble of noises, the distorted sounds of gunfire and shouting. 'Captain? Are you still there?'\\n\\n'Report!'\\n\\n'Heavy resistance. We're locked here! Where are-'\\n\\nThe link broke. Loken hadn't been about to give away his position anyway. There was something in this tower with him. At the very top, something was waiting.\\n\\nThe penultimate deck. From above came a soft creaking and grinding, like the sails of a giant windmill. Loken paused. At this height, through the wide panes of glass, he was afforded a view out across the palace and the High City. A sea of luminous smoke, underlit by widespread firestorms. Some buildings glowed pink, reflecting the light of the inferno. Weapons flashed, and energy beams danced and jumped in the dark. Overhead, the sky was full of fire too, a mirror of the ground. The speartip had visited murderous destruction upon the city of the 'Emperor'.\\n\\nBut had it found the throat?\\n\\nHe mounted the last flight of steps, his grip on the weapons tight.\\n\\nThe uppermost ring platform formed the base of the tower's top section, a vast cupola of crystal-glass petals, ribbed together with steel spars that curved up to form a finial mast at the apex high above. The entire structure creaked and slid, turning slighdy one way then another as it responded phototropically to the blooms of light outside in the night. On one side of the platform, its back to the great windows, sat a golden throne. It was a massive object, a heavy plinth of three golden steps rising to a vast gilt chair with a high back and coiled arm rests.\\n\\nThe throne was empty.\\n\\nLoken lowered his weapons. He saw that the tower top turned so that the throne was always facing the light. Disappointed, Loken took a step towards the throne, and then halted when he realised he wasn't alone after all.\\n\\nA solitary figure stood away to his left, hands clasped behind its back, staring out at the spectacle of war.\\n\\nThe figure turned. It was an elderly man, dressed in a floor-length mauve robe. His hair was thin and white, his face thinner still. He sta\"]"
      ]
     },
     "execution_count": 6,
     "metadata": {},
     "output_type": "execute_result"
    }
   ],
   "source": [
    "data = dataset['train']['text']\n",
    "data[:4]"
   ]
  },
  {
   "cell_type": "code",
   "execution_count": 8,
   "metadata": {},
   "outputs": [],
   "source": [
    "def preprocess_data(sentence):\n",
    "    sentence = sentence.lower()\n",
    "    sentence = re.sub(r'[^a-z0-9]', ' ', sentence)\n",
    "    sentence = re.sub(' +', ' ', sentence)\n",
    "\n",
    "    return sentence\n",
    "\n",
    "def tokenize_data(total_words):\n",
    "    cleaned_sentences = list(map(preprocess_data, data))\n",
    "    cleaned_sentences = ' '.join(cleaned_sentences)[:total_words]\n",
    "\n",
    "    tokenizer = Tokenizer()\n",
    "    tokenizer.fit_on_texts([cleaned_sentences])\n",
    "    tokenized_data = tokenizer.texts_to_sequences([cleaned_sentences])[0]\n",
    "    index_to_word = dict(zip(tokenizer.word_index.values(), tokenizer.word_index.keys()))\n",
    "\n",
    "    return tokenized_data, index_to_word, tokenizer"
   ]
  },
  {
   "cell_type": "code",
   "execution_count": 9,
   "metadata": {},
   "outputs": [],
   "source": [
    "tokenized_data, index_to_word, tokenizer = tokenize_data(1000000)"
   ]
  },
  {
   "cell_type": "code",
   "execution_count": 10,
   "metadata": {},
   "outputs": [],
   "source": [
    "num_words = len(tokenizer.word_index) + 1\n",
    "sentence_length = 5\n",
    "\n",
    "input_data = []\n",
    "output_data = []\n",
    "\n",
    "for i in range(0, len(tokenized_data)-sentence_length):\n",
    "    input_data.append(tokenized_data[i:i+sentence_length])\n",
    "    output_data.append(tokenized_data[i+sentence_length])\n",
    "\n",
    "input_data = np.array(input_data)\n",
    "output_data = np.array(output_data)\n",
    "\n",
    "output_data = to_categorical(output_data, num_classes=num_words)"
   ]
  },
  {
   "cell_type": "code",
   "execution_count": 11,
   "metadata": {},
   "outputs": [
    {
     "name": "stdout",
     "output_type": "stream",
     "text": [
      "input_data shape : (183651, 5)\n",
      "output_data shape : (183651, 13322)\n"
     ]
    }
   ],
   "source": [
    "print(\"input_data shape : {}\".format(input_data.shape))\n",
    "print(\"output_data shape : {}\".format(output_data.shape))"
   ]
  },
  {
   "cell_type": "code",
   "execution_count": 12,
   "metadata": {},
   "outputs": [],
   "source": [
    "def rnn_model(optimizer, epochs):\n",
    "    model = Sequential()\n",
    "\n",
    "    model.add(Embedding(input_dim=num_words, output_dim=300, input_length=sentence_length))\n",
    "    model.add(LSTM(256, return_sequences=True))\n",
    "    model.add(LSTM(128, return_sequences=True))\n",
    "    model.add(LSTM(128))\n",
    "    model.add(Dense(num_words, activation='softmax'))\n",
    "\n",
    "    model.compile(optimizer=optimizer, loss='categorical_crossentropy', metrics=['accuracy'])\n",
    "\n",
    "    model.fit(input_data, output_data, epochs=epochs)\n",
    "\n",
    "    return model"
   ]
  },
  {
   "cell_type": "code",
   "execution_count": null,
   "metadata": {},
   "outputs": [],
   "source": [
    "adam_model = rnn_model('adam', 30)"
   ]
  },
  {
   "cell_type": "code",
   "execution_count": 207,
   "metadata": {},
   "outputs": [],
   "source": [
    "def text_generation(input_text):\n",
    "    word = ''\n",
    "    text = input_text.lower()\n",
    "    text = tokenizer.texts_to_sequences([text])[0]\n",
    "    text = np.array(text).reshape(-1, 1)\n",
    "\n",
    "    predict = model.predict(text)\n",
    "    predict = np.argmax(predict, axis=-1)\n",
    "\n",
    "    for p in predict:\n",
    "        word += index_to_word[p] + ' '\n",
    "    \n",
    "    output_text = input_text + ' ' + word\n",
    "    output_text = re.sub(' +', ' ', output_text)\n",
    "\n",
    "    return output_text"
   ]
  },
  {
   "cell_type": "code",
   "execution_count": 217,
   "metadata": {},
   "outputs": [
    {
     "name": "stdout",
     "output_type": "stream",
     "text": [
      "1/1 [==============================] - 0s 34ms/step\n",
      "1/1 [==============================] - 0s 36ms/step\n",
      "1/1 [==============================] - 0s 34ms/step\n",
      "1/1 [==============================] - 0s 32ms/step\n",
      "1/1 [==============================] - 0s 36ms/step\n",
      "1/1 [==============================] - 0s 34ms/step\n"
     ]
    }
   ],
   "source": [
    "samples = [\n",
    "    'The cat sat on the ', 'The old house creaked with ', 'The cat chased the playful ', \n",
    "    'The sun sets behind the ', 'I think it once contained', 'unsurprised when he saw that'\n",
    "    ]\n",
    "\n",
    "output_texts = []\n",
    "\n",
    "for sample in samples:\n",
    "    output_texts.append(text_generation(sample))"
   ]
  },
  {
   "cell_type": "code",
   "execution_count": 220,
   "metadata": {},
   "outputs": [
    {
     "data": {
      "text/plain": [
       "['The cat sat on the revealing yourself pour revealing ',\n",
       " 'The old house creaked with revealing custodian units turn ',\n",
       " 'The cat chased the playful revealing revealing ',\n",
       " 'The sun sets behind the revealing dealing injured revealing ',\n",
       " 'I think it once contained fade uneasily decks rother ',\n",
       " 'unsurprised when he saw that sentient shadows somehow underlit ']"
      ]
     },
     "execution_count": 220,
     "metadata": {},
     "output_type": "execute_result"
    }
   ],
   "source": [
    "output_texts"
   ]
  },
  {
   "cell_type": "code",
   "execution_count": null,
   "metadata": {},
   "outputs": [],
   "source": []
  }
 ],
 "metadata": {
  "kernelspec": {
   "display_name": "base",
   "language": "python",
   "name": "python3"
  },
  "language_info": {
   "codemirror_mode": {
    "name": "ipython",
    "version": 3
   },
   "file_extension": ".py",
   "mimetype": "text/x-python",
   "name": "python",
   "nbconvert_exporter": "python",
   "pygments_lexer": "ipython3",
   "version": "3.10.9"
  }
 },
 "nbformat": 4,
 "nbformat_minor": 2
}
